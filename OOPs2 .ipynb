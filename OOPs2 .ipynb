{
 "cells": [
  {
   "cell_type": "code",
   "execution_count": 1,
   "id": "908b8316-201e-4901-8b44-6ccc612f9cbb",
   "metadata": {},
   "outputs": [],
   "source": [
    "# QUESTION.1 What  is Abstraction in OOPs? Expalai with an exapmle.\n",
    "# ANSWER Abstraction in object-orinted programming(OOPs) is a cnocept that focuses on representing only the essential \n",
    "# attributes and behaviors of an  object while hiding the unecssary details. It allows you to creat a simplified and \n",
    "# generalized representation of a complex system.\n",
    "# For Example:\n",
    "from abc import ABC "
   ]
  },
  {
   "cell_type": "code",
   "execution_count": 2,
   "id": "cf4d63f2-63cb-4dcc-b34e-2e747395f0a7",
   "metadata": {},
   "outputs": [],
   "source": [
    "class car(ABC):\n",
    "    def mileage(self):\n",
    "        pass"
   ]
  },
  {
   "cell_type": "code",
   "execution_count": 3,
   "id": "e31325da-29b9-42dd-a53f-a4e1c6c0d76f",
   "metadata": {},
   "outputs": [],
   "source": [
    "class Tesla(car):\n",
    "    def mileage(self):\n",
    "        print('The mileage is 30kmph')"
   ]
  },
  {
   "cell_type": "code",
   "execution_count": 4,
   "id": "777165b8-e7b9-424b-9bdd-6c03919962d1",
   "metadata": {},
   "outputs": [],
   "source": [
    "class Suzuki(car):\n",
    "    def mileage(self):\n",
    "        print('The mileage is 25kmph')"
   ]
  },
  {
   "cell_type": "code",
   "execution_count": 5,
   "id": "8de2fa65-58b8-4ac0-8907-530a1353726d",
   "metadata": {},
   "outputs": [],
   "source": [
    "class Renault(car):\n",
    "    def mileage(self):\n",
    "        print('The mileage is 22kmph')"
   ]
  },
  {
   "cell_type": "code",
   "execution_count": 6,
   "id": "0fad1777-38a9-4aed-b909-6ed5911a41f0",
   "metadata": {},
   "outputs": [],
   "source": [
    "t = Tesla()\n",
    "s = Suzuki()\n",
    "r = Renault()"
   ]
  },
  {
   "cell_type": "code",
   "execution_count": 7,
   "id": "de9cee5d-ffec-4587-868b-c7e32897f0ea",
   "metadata": {},
   "outputs": [
    {
     "name": "stdout",
     "output_type": "stream",
     "text": [
      "The mileage is 30kmph\n",
      "The mileage is 25kmph\n",
      "The mileage is 22kmph\n"
     ]
    }
   ],
   "source": [
    "t.mileage()\n",
    "s.mileage()\n",
    "r.mileage()"
   ]
  },
  {
   "cell_type": "code",
   "execution_count": null,
   "id": "91da22d1-e3b8-4fea-ada5-2c8c3fb67bef",
   "metadata": {},
   "outputs": [],
   "source": []
  },
  {
   "cell_type": "code",
   "execution_count": null,
   "id": "f212c682-cddd-49c6-9d13-f4f94a8889a0",
   "metadata": {},
   "outputs": [],
   "source": [
    "\n",
    "# QUESTION.2 Differentiate between Abstraction and Encapsulation. Explain with an example.\n",
    "# ANSWER _ABSTRACTION_ \n",
    "# 1. It is the process of gaining information.\n",
    "# 2. The problem in this technique are solve at the interface level.\n",
    "# 3. It helps hide the unwanted details\\information.\n",
    "# 4. It can be implemented using abstract classes and interfaces.\n",
    "\n",
    "#       _Encapsulation_\n",
    "# 1. It is a methord that helpes wrap up data into a single module.\n",
    "# 2. Problems in encapsulation are solved at the implementation level.\n",
    "# 3. It helps hide data using a single entity that helps protect the innfromation.\n",
    "# 4. It can be implemented using access modifiers like public,private and protected.\n",
    "\n",
    "# For Example :\n",
    "    # Let's consider a 'bank account' class. Abstraction would involve modeling the class with relevant attributes like \n",
    "    # account number and balance, along with methord like \"deposit\" and \"withdraw()\". Encapsulation would involve setting the\n",
    "    # balance as a private varible and providing public methord like \"getbalance()\" and \"make deposit\"to control how the \n",
    "    # balance can be accessed and modified"
   ]
  },
  {
   "cell_type": "code",
   "execution_count": null,
   "id": "352981c1-e6fd-42dc-a2d8-cbb229dd24a7",
   "metadata": {},
   "outputs": [],
   "source": []
  },
  {
   "cell_type": "code",
   "execution_count": null,
   "id": "14a1a7b0-d7d9-40ee-9123-4176f88381ed",
   "metadata": {},
   "outputs": [],
   "source": [
    "\n",
    "# QUESTION.3 what is abc module in python? why is it used?\n",
    "# ANSWER The 'abc' module in python stands for 'abstract base classes' It provide a waty to define abstract classes and \n",
    "# intreface that enforce a specific set of methord that must be implemented by its subclasses. It's used to creat a blueprint\n",
    "# for classes, ensuring that certain methord are present and promoting code consistency in class hierarchies. by using the \n",
    "# 'abc' module, you can define a common interface that multiiply classes should adhere to, making your code more maintainable\n",
    "# are predictable."
   ]
  },
  {
   "cell_type": "code",
   "execution_count": null,
   "id": "7b527e5f-1833-4f6b-82f2-f5b8d9f48900",
   "metadata": {},
   "outputs": [],
   "source": []
  },
  {
   "cell_type": "code",
   "execution_count": null,
   "id": "1fbef35a-341e-4dad-8fb5-53c40c4aef00",
   "metadata": {},
   "outputs": [],
   "source": [
    "# QUESTION.4 How can we achive data abstraction?\n",
    "# ANSWER Data abstraction is achiveed by hiding the complex  implementation details of data and exposing only the essential\n",
    "# features to the user. this is typically done through the use of classes, object, and interfaces in object-orinted \n",
    "# programming. by defining classes that encapsulate data and provide methord to interact with that data,you can creat a level\n",
    "# of abstraction that simplifies how user interact with data without needing to understand its internal complexities."
   ]
  },
  {
   "cell_type": "code",
   "execution_count": null,
   "id": "ad8e9192-4944-4847-9083-c55aa8166dc3",
   "metadata": {},
   "outputs": [],
   "source": []
  },
  {
   "cell_type": "code",
   "execution_count": null,
   "id": "8523207b-fca9-4796-818d-1dd71653b5e6",
   "metadata": {},
   "outputs": [],
   "source": [
    "# QUESTION.5 Can We create an instance of an abstract class? Explain your answer.\n",
    "# ANSWER No, you cannot directl creat an instance of an abstract class in most programming language. Abstract classes are \n",
    "# designed to be incomplete and serce as incomplete and serve as blueprint for subclass to implement. They may contain \n",
    "# abstract methord without a body, which must be overridden by concrete subclasses."
   ]
  }
 ],
 "metadata": {
  "kernelspec": {
   "display_name": "Python 3 (ipykernel)",
   "language": "python",
   "name": "python3"
  },
  "language_info": {
   "codemirror_mode": {
    "name": "ipython",
    "version": 3
   },
   "file_extension": ".py",
   "mimetype": "text/x-python",
   "name": "python",
   "nbconvert_exporter": "python",
   "pygments_lexer": "ipython3",
   "version": "3.10.8"
  }
 },
 "nbformat": 4,
 "nbformat_minor": 5
}
